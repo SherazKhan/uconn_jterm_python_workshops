{
 "cells": [
  {
   "cell_type": "markdown",
   "metadata": {},
   "source": [
    "# Python data analysis tutorial"
   ]
  },
  {
   "cell_type": "markdown",
   "metadata": {},
   "source": [
    "## Some preliminaries:\n",
    "\n",
    "**We're covering a lot of tools that could each probably fill hours of tutorial. The goal this session is not to give you complete command of them, but to give a taste of what you can do, and give you motivation and means to learn further.**\n",
    "\n",
    "Sometimes I will fly over a code example without explaining it. If I do that, it's intentional -- I'm using the example to demonstrate that something *is* possible, rather than *how* it's possible. (So if you don't totally understand how an example works and I don't explain it, don't sweat it too much right now.)\n",
    "\n",
    "Of course, I am happy to field questions about Python-related things after today,  for both things that I speed through and those that I spend more time on!\n",
    "\n",
    "In this session, everything will be taught and demonstrated in a...\n",
    "\n",
    "## [Jupyter notebook](https://jupyter.org/)\n",
    "\n",
    "...which is a web application that allows you to create and share documents that contain explanatory text (in markdown syntax, like HTML), live (Python) code and code output..."
   ]
  },
  {
   "cell_type": "code",
   "execution_count": 1,
   "metadata": {
    "collapsed": false
   },
   "outputs": [
    {
     "name": "stdout",
     "output_type": "stream",
     "text": [
      "M\n",
      "a\n",
      "u\n",
      "d\n",
      "e\n",
      " \n",
      "a\n",
      "n\n",
      "d\n",
      " \n",
      "J\n",
      "u\n",
      "n\n",
      "e\n"
     ]
    }
   ],
   "source": [
    "word = 'Maude and June'\n",
    "for letter in word:\n",
    "    #print((' ' + letter) * len(word))\n",
    "    print(letter)"
   ]
  },
  {
   "cell_type": "markdown",
   "metadata": {},
   "source": [
    "...equations..."
   ]
  },
  {
   "cell_type": "markdown",
   "metadata": {},
   "source": [
    "$$x_{1,2} = \\frac{-b \\pm \\sqrt{b^2-4ac}}{2b}.$$"
   ]
  },
  {
   "cell_type": "markdown",
   "metadata": {},
   "source": [
    "...and visualizations. A quick note about that:\n",
    "\n",
    "Today I'll be working in a dark Jupyter Notebook theme, which I acquired by using the package I mentioned on this notebook's github repo. If you want to work in the default, pretty bright theme, it looks like this:"
   ]
  },
  {
   "cell_type": "markdown",
   "metadata": {},
   "source": [
    "![](https://docs.microsoft.com/en-us/azure/virtual-machines/media/virtual-machines-linux-jupyter-notebook/ipy-notebook-spectral.png)"
   ]
  },
  {
   "cell_type": "markdown",
   "metadata": {},
   "source": [
    "To accommodate the dark Jupyter theme, I am also modifying the seaborn default style to make plots that look legible on this darker background. If you are working in the default theme, you don't need to run the `set_style` chunk below (you can comment it out)."
   ]
  },
  {
   "cell_type": "code",
   "execution_count": 2,
   "metadata": {
    "collapsed": false
   },
   "outputs": [
    {
     "data": {
      "text/html": [
       "<div>\n",
       "<table border=\"1\" class=\"dataframe\">\n",
       "  <thead>\n",
       "    <tr style=\"text-align: right;\">\n",
       "      <th></th>\n",
       "      <th>total_bill</th>\n",
       "      <th>tip</th>\n",
       "      <th>sex</th>\n",
       "      <th>smoker</th>\n",
       "      <th>day</th>\n",
       "      <th>time</th>\n",
       "      <th>size</th>\n",
       "    </tr>\n",
       "  </thead>\n",
       "  <tbody>\n",
       "    <tr>\n",
       "      <th>0</th>\n",
       "      <td>16.99</td>\n",
       "      <td>1.01</td>\n",
       "      <td>Female</td>\n",
       "      <td>No</td>\n",
       "      <td>Sun</td>\n",
       "      <td>Dinner</td>\n",
       "      <td>2</td>\n",
       "    </tr>\n",
       "    <tr>\n",
       "      <th>1</th>\n",
       "      <td>10.34</td>\n",
       "      <td>1.66</td>\n",
       "      <td>Male</td>\n",
       "      <td>No</td>\n",
       "      <td>Sun</td>\n",
       "      <td>Dinner</td>\n",
       "      <td>3</td>\n",
       "    </tr>\n",
       "    <tr>\n",
       "      <th>2</th>\n",
       "      <td>21.01</td>\n",
       "      <td>3.50</td>\n",
       "      <td>Male</td>\n",
       "      <td>No</td>\n",
       "      <td>Sun</td>\n",
       "      <td>Dinner</td>\n",
       "      <td>3</td>\n",
       "    </tr>\n",
       "    <tr>\n",
       "      <th>3</th>\n",
       "      <td>23.68</td>\n",
       "      <td>3.31</td>\n",
       "      <td>Male</td>\n",
       "      <td>No</td>\n",
       "      <td>Sun</td>\n",
       "      <td>Dinner</td>\n",
       "      <td>2</td>\n",
       "    </tr>\n",
       "    <tr>\n",
       "      <th>4</th>\n",
       "      <td>24.59</td>\n",
       "      <td>3.61</td>\n",
       "      <td>Female</td>\n",
       "      <td>No</td>\n",
       "      <td>Sun</td>\n",
       "      <td>Dinner</td>\n",
       "      <td>4</td>\n",
       "    </tr>\n",
       "  </tbody>\n",
       "</table>\n",
       "</div>"
      ],
      "text/plain": [
       "   total_bill   tip     sex smoker  day    time  size\n",
       "0       16.99  1.01  Female     No  Sun  Dinner     2\n",
       "1       10.34  1.66    Male     No  Sun  Dinner     3\n",
       "2       21.01  3.50    Male     No  Sun  Dinner     3\n",
       "3       23.68  3.31    Male     No  Sun  Dinner     2\n",
       "4       24.59  3.61  Female     No  Sun  Dinner     4"
      ]
     },
     "execution_count": 2,
     "metadata": {},
     "output_type": "execute_result"
    }
   ],
   "source": [
    "import pandas as pd\n",
    "import seaborn as sns\n",
    "#import matplotlib\n",
    "#matplotlib.style.use('ggplot')\n",
    "\n",
    "sns.set_style({  'axes.facecolor': 'gray',\n",
    "                 'axes.labelcolor': 'white',\n",
    "                 'figure.facecolor': 'gray',\n",
    "                 'grid.color': '.8',\n",
    "                 'image.cmap': u'Greys',\n",
    "                 'text.color': 'white',\n",
    "                 'xtick.color': 'white',\n",
    "                 'ytick.color': 'white'})\n",
    "\n",
    "%matplotlib inline\n",
    "\n",
    "tips = sns.load_dataset('tips')\n",
    "tips.head()"
   ]
  },
  {
   "cell_type": "code",
   "execution_count": 3,
   "metadata": {
    "collapsed": false
   },
   "outputs": [
    {
     "data": {
      "image/png": "[encoded data removed]",
      "text/plain": [
       "<matplotlib.figure.Figure at 0x105342eb8>"
      ]
     },
     "metadata": {},
     "output_type": "display_data"
    }
   ],
   "source": [
    "sns.barplot(x='smoker',y='tip',hue='sex',data=tips);"
   ]
  },
  {
   "cell_type": "markdown",
   "metadata": {},
   "source": [
    "Again, if you are working in the default seaborn style, you should see something like this:"
   ]
  },
  {
   "cell_type": "markdown",
   "metadata": {},
   "source": [
    "![](http://seaborn.pydata.org/_images/factorplot_bars.png)"
   ]
  },
  {
   "cell_type": "markdown",
   "metadata": {},
   "source": [
    "For rest of tutorial, I'll just be using the dark style I set up, and I won't bring up any really bright images.\n",
    "\n",
    "So those are the main capabilities of the notebook. When would you use that?\n",
    "    - Teaching and demonstration (like now...)\n",
    "    - Exploratory data analysis (most of my dissertation work)\n",
    "    - Producing a well-documented, shareable, reproducible data analysis pipeline\n",
    "    \n",
    "#### Basically, #openscience\n",
    "\n",
    "(But don't take my word for it! [Nature agrees!](http://www.nature.com/news/interactive-notebooks-sharing-the-code-1.16261))"
   ]
  },
  {
   "cell_type": "markdown",
   "metadata": {},
   "source": [
    "### Interacting with the jupyter notebook\n",
    "\n",
    "Working on a jupyter notebook is basically all about making 'cells', the chunks with markdown or code, and running them, moving them, etc.\n",
    "\n",
    "Make a couple cells now, at least one with code and one with markdown, and run them. (Maybe also explore the toolbar and see what else you can do -- cut/paste/split/merge/run-all-above)."
   ]
  },
  {
   "cell_type": "code",
   "execution_count": 4,
   "metadata": {
    "collapsed": true
   },
   "outputs": [],
   "source": [
    "# a code cell, maybe?"
   ]
  },
  {
   "cell_type": "code",
   "execution_count": 5,
   "metadata": {
    "collapsed": true
   },
   "outputs": [],
   "source": [
    "# maybe you could change this to a markdown cell?"
   ]
  },
  {
   "cell_type": "code",
   "execution_count": 6,
   "metadata": {
    "collapsed": true
   },
   "outputs": [],
   "source": [
    "# you could merge this with the cell above, why not?"
   ]
  },
  {
   "cell_type": "markdown",
   "metadata": {},
   "source": [
    "### Data analysis"
   ]
  },
  {
   "cell_type": "markdown",
   "metadata": {},
   "source": [
    "#### Pandas"
   ]
  },
  {
   "cell_type": "markdown",
   "metadata": {
    "collapsed": true
   },
   "source": [
    "\"[*pandas*](http://pandas.pydata.org/) is an open source, BSD-licensed library providing high-performance, easy-to-use data structures and data analysis tools for the Python programming language.\"\n",
    "\n",
    "The basic datatypes of `pandas` are `Series` and, more importantly, `DataFrames`. \n",
    "\n",
    "A `Series` is sort of like a list -- its a sequence of items -- but it has labels on each of the items, and it has special attributes and methods available to it.\n",
    "\n",
    "A `DataFrame` is basically a data table, with labeled rows and columns. Often, each row will be a participant/observation, and each column will be a variable/measurement. Like series, dataframes also afford special attributes and methods.\n",
    "\n",
    "[Here's](https://github.com/pandas-dev/pandas/blob/master/doc/cheatsheet/Pandas_Cheat_Sheet.pdf) a nifty cheatsheet of the pandas basics. And here's [\"10 minutes to pandas\"](http://pandas.pydata.org/pandas-docs/stable/10min.html#), a 'quick' tutorial that makes for a nice reference. (Some of what I'll go over is taken from that.)"
   ]
  },
  {
   "cell_type": "markdown",
   "metadata": {},
   "source": [
    "##### Series"
   ]
  },
  {
   "cell_type": "code",
   "execution_count": 43,
   "metadata": {
    "collapsed": false
   },
   "outputs": [
    {
     "data": {
      "text/plain": [
       "0    1.0\n",
       "1    3.0\n",
       "2    5.0\n",
       "3    NaN\n",
       "4    6.0\n",
       "5    8.0\n",
       "dtype: float64"
      ]
     },
     "execution_count": 43,
     "metadata": {},
     "output_type": "execute_result"
    }
   ],
   "source": [
    "import numpy as np\n",
    "\n",
    "# a simple series, built by passing a list to pd.Series()\n",
    "s = pd.Series([1,3,5,np.nan,6,8])\n",
    "s"
   ]
  },
  {
   "cell_type": "markdown",
   "metadata": {},
   "source": [
    "Some of the thing we can do with that series..."
   ]
  },
  {
   "cell_type": "code",
   "execution_count": 44,
   "metadata": {
    "collapsed": false
   },
   "outputs": [
    {
     "data": {
      "text/plain": [
       "4.6"
      ]
     },
     "execution_count": 44,
     "metadata": {},
     "output_type": "execute_result"
    }
   ],
   "source": [
    "s.mean()"
   ]
  },
  {
   "cell_type": "code",
   "execution_count": 45,
   "metadata": {
    "collapsed": false
   },
   "outputs": [
    {
     "data": {
      "text/plain": [
       "2.701851217221259"
      ]
     },
     "execution_count": 45,
     "metadata": {},
     "output_type": "execute_result"
    }
   ],
   "source": [
    "s.std()"
   ]
  },
  {
   "cell_type": "markdown",
   "metadata": {},
   "source": [
    "We could standardize all of the values in that series like this:"
   ]
  },
  {
   "cell_type": "code",
   "execution_count": 46,
   "metadata": {
    "collapsed": false
   },
   "outputs": [
    {
     "data": {
      "text/plain": [
       "0   -1.332420\n",
       "1   -0.592187\n",
       "2    0.148047\n",
       "3         NaN\n",
       "4    0.518163\n",
       "5    1.258396\n",
       "dtype: float64"
      ]
     },
     "execution_count": 46,
     "metadata": {},
     "output_type": "execute_result"
    }
   ],
   "source": [
    "s = ( s - s.mean() ) / s.std()\n",
    "s"
   ]
  },
  {
   "cell_type": "code",
   "execution_count": 47,
   "metadata": {
    "collapsed": false
   },
   "outputs": [
    {
     "name": "stdout",
     "output_type": "stream",
     "text": [
      "8.881784197001253e-17\n",
      "0.9999999999999999\n"
     ]
    }
   ],
   "source": [
    "print(s.mean(),s.std(),sep='\\n')"
   ]
  },
  {
   "cell_type": "markdown",
   "metadata": {},
   "source": [
    "(Those are pretty much m=0 and std=1, as they should be, now. The slight deviance is due to how Python encodes floating point numbers. Usually -- *usually!* -- these deviances will be so small you don't care, but do be aware!)\n",
    "\n",
    "The dataframe, though, is really the meat and potatoes of pandas (at least in my experience), so we'll focus more on those. We'll introduce them through some data generated by Monica's psychopy experiment"
   ]
  },
  {
   "cell_type": "markdown",
   "metadata": {},
   "source": [
    "## Monica's PsychoPy Data"
   ]
  },
  {
   "cell_type": "markdown",
   "metadata": {},
   "source": [
    "Remember Monica's experiment from a couple days ago?\n",
    "\n",
    "The question was as follows...\n",
    "\n",
    "The structure of the experiment was as follows...\n",
    "\n",
    "Let's look at this data a bit. We'll use `pandas` to hold and manipulate the data, `Seaborn` to visualize it, and a little bit of `scipy.stats` to statistically analyze it."
   ]
  },
  {
   "cell_type": "code",
   "execution_count": 8,
   "metadata": {
    "collapsed": false
   },
   "outputs": [
    {
     "data": {
      "text/plain": [
       "['data_01.txt',\n",
       " 'data_02.txt',\n",
       " 'data_03.txt',\n",
       " 'data_04.txt',\n",
       " 'data_05.txt',\n",
       " 'data_06.txt',\n",
       " 'data_07.txt',\n",
       " 'data_08.txt',\n",
       " 'data_09.txt',\n",
       " 'data_10.txt']"
      ]
     },
     "execution_count": 8,
     "metadata": {},
     "output_type": "execute_result"
    }
   ],
   "source": [
    "import os\n",
    "\n",
    "os.chdir('sample psychopy data')\n",
    "os.listdir()"
   ]
  },
  {
   "cell_type": "code",
   "execution_count": 9,
   "metadata": {
    "collapsed": false
   },
   "outputs": [
    {
     "data": {
      "text/html": [
       "<div>\n",
       "<table border=\"1\" class=\"dataframe\">\n",
       "  <thead>\n",
       "    <tr style=\"text-align: right;\">\n",
       "      <th></th>\n",
       "      <th>COND</th>\n",
       "      <th>V_STIM</th>\n",
       "      <th>A_STIM</th>\n",
       "      <th>KEY</th>\n",
       "      <th>RESP</th>\n",
       "      <th>ACC</th>\n",
       "      <th>RT</th>\n",
       "    </tr>\n",
       "  </thead>\n",
       "  <tbody>\n",
       "    <tr>\n",
       "      <th>0</th>\n",
       "      <td>incongruent</td>\n",
       "      <td>happy</td>\n",
       "      <td>cry</td>\n",
       "      <td>left</td>\n",
       "      <td>incongruent</td>\n",
       "      <td>1</td>\n",
       "      <td>1.291</td>\n",
       "    </tr>\n",
       "    <tr>\n",
       "      <th>1</th>\n",
       "      <td>incongruent</td>\n",
       "      <td>sad</td>\n",
       "      <td>laugh</td>\n",
       "      <td>right</td>\n",
       "      <td>congruent</td>\n",
       "      <td>0</td>\n",
       "      <td>1.163</td>\n",
       "    </tr>\n",
       "    <tr>\n",
       "      <th>2</th>\n",
       "      <td>congruent</td>\n",
       "      <td>sad</td>\n",
       "      <td>cry</td>\n",
       "      <td>left</td>\n",
       "      <td>incongruent</td>\n",
       "      <td>0</td>\n",
       "      <td>1.353</td>\n",
       "    </tr>\n",
       "    <tr>\n",
       "      <th>3</th>\n",
       "      <td>congruent</td>\n",
       "      <td>happy</td>\n",
       "      <td>laugh</td>\n",
       "      <td>right</td>\n",
       "      <td>congruent</td>\n",
       "      <td>1</td>\n",
       "      <td>1.936</td>\n",
       "    </tr>\n",
       "  </tbody>\n",
       "</table>\n",
       "</div>"
      ],
      "text/plain": [
       "          COND V_STIM A_STIM    KEY         RESP  ACC     RT\n",
       "0  incongruent  happy    cry   left  incongruent    1  1.291\n",
       "1  incongruent    sad  laugh  right    congruent    0  1.163\n",
       "2    congruent    sad    cry   left  incongruent    0  1.353\n",
       "3    congruent  happy  laugh  right    congruent    1  1.936"
      ]
     },
     "execution_count": 9,
     "metadata": {},
     "output_type": "execute_result"
    }
   ],
   "source": [
    "data_01 = pd.read_table('data_01.txt')\n",
    "data_01"
   ]
  },
  {
   "cell_type": "markdown",
   "metadata": {},
   "source": [
    "So now we see the basic structure of a dataframe. The column labels run across the top, while the index -- the row labels -- run along the left. You can access a particular column like this:"
   ]
  },
  {
   "cell_type": "code",
   "execution_count": 48,
   "metadata": {
    "collapsed": false
   },
   "outputs": [
    {
     "data": {
      "text/plain": [
       "0    1.291\n",
       "1    1.163\n",
       "2    1.353\n",
       "3    1.936\n",
       "Name: RT, dtype: float64"
      ]
     },
     "execution_count": 48,
     "metadata": {},
     "output_type": "execute_result"
    }
   ],
   "source": [
    "data_01['RT']"
   ]
  },
  {
   "cell_type": "markdown",
   "metadata": {},
   "source": [
    "And you can access a row like this:"
   ]
  },
  {
   "cell_type": "code",
   "execution_count": 49,
   "metadata": {
    "collapsed": false
   },
   "outputs": [
    {
     "data": {
      "text/plain": [
       "COND      incongruent\n",
       "V_STIM          happy\n",
       "A_STIM            cry\n",
       "KEY              left\n",
       "RESP      incongruent\n",
       "ACC                 1\n",
       "RT              1.291\n",
       "Name: 0, dtype: object"
      ]
     },
     "execution_count": 49,
     "metadata": {},
     "output_type": "execute_result"
    }
   ],
   "source": [
    "data_01.loc[0]"
   ]
  },
  {
   "cell_type": "code",
   "execution_count": 50,
   "metadata": {
    "collapsed": true
   },
   "outputs": [],
   "source": [
    "## DO I ALLUDE TO THE DIFFERENCE BETWEEN LABEL-BASED AND POSITION-BASED SELECTION????"
   ]
  },
  {
   "cell_type": "markdown",
   "metadata": {},
   "source": [
    "You can access a particular *cell*, like this:"
   ]
  },
  {
   "cell_type": "code",
   "execution_count": 51,
   "metadata": {
    "collapsed": false
   },
   "outputs": [
    {
     "data": {
      "text/plain": [
       "1.2909999999999999"
      ]
     },
     "execution_count": 51,
     "metadata": {},
     "output_type": "execute_result"
    }
   ],
   "source": [
    "data_01.loc[0,'RT']"
   ]
  },
  {
   "cell_type": "markdown",
   "metadata": {},
   "source": [
    "All the tables have this structure, so let's just loop through all these files and make one big dataframe. We'll start with an empty dataframe, and as we loop through each individual file, we'll concatenate it to this dataframe."
   ]
  },
  {
   "cell_type": "code",
   "execution_count": 10,
   "metadata": {
    "collapsed": false
   },
   "outputs": [
    {
     "data": {
      "text/html": [
       "<div>\n",
       "<table border=\"1\" class=\"dataframe\">\n",
       "  <thead>\n",
       "    <tr style=\"text-align: right;\">\n",
       "      <th></th>\n",
       "      <th>COND</th>\n",
       "      <th>V_STIM</th>\n",
       "      <th>A_STIM</th>\n",
       "      <th>KEY</th>\n",
       "      <th>RESP</th>\n",
       "      <th>ACC</th>\n",
       "      <th>RT</th>\n",
       "    </tr>\n",
       "  </thead>\n",
       "  <tbody>\n",
       "    <tr>\n",
       "      <th>0</th>\n",
       "      <td>incongruent</td>\n",
       "      <td>happy</td>\n",
       "      <td>cry</td>\n",
       "      <td>left</td>\n",
       "      <td>incongruent</td>\n",
       "      <td>1</td>\n",
       "      <td>1.291</td>\n",
       "    </tr>\n",
       "    <tr>\n",
       "      <th>1</th>\n",
       "      <td>incongruent</td>\n",
       "      <td>sad</td>\n",
       "      <td>laugh</td>\n",
       "      <td>right</td>\n",
       "      <td>congruent</td>\n",
       "      <td>0</td>\n",
       "      <td>1.163</td>\n",
       "    </tr>\n",
       "    <tr>\n",
       "      <th>2</th>\n",
       "      <td>congruent</td>\n",
       "      <td>sad</td>\n",
       "      <td>cry</td>\n",
       "      <td>left</td>\n",
       "      <td>incongruent</td>\n",
       "      <td>0</td>\n",
       "      <td>1.353</td>\n",
       "    </tr>\n",
       "    <tr>\n",
       "      <th>3</th>\n",
       "      <td>congruent</td>\n",
       "      <td>happy</td>\n",
       "      <td>laugh</td>\n",
       "      <td>right</td>\n",
       "      <td>congruent</td>\n",
       "      <td>1</td>\n",
       "      <td>1.936</td>\n",
       "    </tr>\n",
       "    <tr>\n",
       "      <th>0</th>\n",
       "      <td>congruent</td>\n",
       "      <td>sad</td>\n",
       "      <td>cry</td>\n",
       "      <td>right</td>\n",
       "      <td>congruent</td>\n",
       "      <td>1</td>\n",
       "      <td>0.973</td>\n",
       "    </tr>\n",
       "    <tr>\n",
       "      <th>1</th>\n",
       "      <td>congruent</td>\n",
       "      <td>happy</td>\n",
       "      <td>laugh</td>\n",
       "      <td>right</td>\n",
       "      <td>congruent</td>\n",
       "      <td>1</td>\n",
       "      <td>1.192</td>\n",
       "    </tr>\n",
       "    <tr>\n",
       "      <th>2</th>\n",
       "      <td>incongruent</td>\n",
       "      <td>happy</td>\n",
       "      <td>cry</td>\n",
       "      <td>left</td>\n",
       "      <td>incongruent</td>\n",
       "      <td>1</td>\n",
       "      <td>0.816</td>\n",
       "    </tr>\n",
       "    <tr>\n",
       "      <th>3</th>\n",
       "      <td>incongruent</td>\n",
       "      <td>sad</td>\n",
       "      <td>laugh</td>\n",
       "      <td>left</td>\n",
       "      <td>incongruent</td>\n",
       "      <td>1</td>\n",
       "      <td>1.379</td>\n",
       "    </tr>\n",
       "    <tr>\n",
       "      <th>0</th>\n",
       "      <td>incongruent</td>\n",
       "      <td>happy</td>\n",
       "      <td>cry</td>\n",
       "      <td>left</td>\n",
       "      <td>incongruent</td>\n",
       "      <td>1</td>\n",
       "      <td>1.135</td>\n",
       "    </tr>\n",
       "    <tr>\n",
       "      <th>1</th>\n",
       "      <td>congruent</td>\n",
       "      <td>sad</td>\n",
       "      <td>cry</td>\n",
       "      <td>right</td>\n",
       "      <td>congruent</td>\n",
       "      <td>1</td>\n",
       "      <td>1.297</td>\n",
       "    </tr>\n",
       "    <tr>\n",
       "      <th>2</th>\n",
       "      <td>congruent</td>\n",
       "      <td>happy</td>\n",
       "      <td>laugh</td>\n",
       "      <td>right</td>\n",
       "      <td>congruent</td>\n",
       "      <td>1</td>\n",
       "      <td>1.038</td>\n",
       "    </tr>\n",
       "    <tr>\n",
       "      <th>3</th>\n",
       "      <td>incongruent</td>\n",
       "      <td>sad</td>\n",
       "      <td>laugh</td>\n",
       "      <td>left</td>\n",
       "      <td>incongruent</td>\n",
       "      <td>1</td>\n",
       "      <td>1.077</td>\n",
       "    </tr>\n",
       "    <tr>\n",
       "      <th>0</th>\n",
       "      <td>incongruent</td>\n",
       "      <td>happy</td>\n",
       "      <td>cry</td>\n",
       "      <td>left</td>\n",
       "      <td>incongruent</td>\n",
       "      <td>1</td>\n",
       "      <td>1.120</td>\n",
       "    </tr>\n",
       "    <tr>\n",
       "      <th>1</th>\n",
       "      <td>congruent</td>\n",
       "      <td>sad</td>\n",
       "      <td>cry</td>\n",
       "      <td>right</td>\n",
       "      <td>congruent</td>\n",
       "      <td>1</td>\n",
       "      <td>1.412</td>\n",
       "    </tr>\n",
       "    <tr>\n",
       "      <th>2</th>\n",
       "      <td>incongruent</td>\n",
       "      <td>sad</td>\n",
       "      <td>laugh</td>\n",
       "      <td>left</td>\n",
       "      <td>incongruent</td>\n",
       "      <td>1</td>\n",
       "      <td>0.810</td>\n",
       "    </tr>\n",
       "    <tr>\n",
       "      <th>3</th>\n",
       "      <td>congruent</td>\n",
       "      <td>happy</td>\n",
       "      <td>laugh</td>\n",
       "      <td>right</td>\n",
       "      <td>congruent</td>\n",
       "      <td>1</td>\n",
       "      <td>1.373</td>\n",
       "    </tr>\n",
       "    <tr>\n",
       "      <th>0</th>\n",
       "      <td>congruent</td>\n",
       "      <td>sad</td>\n",
       "      <td>cry</td>\n",
       "      <td>right</td>\n",
       "      <td>congruent</td>\n",
       "      <td>1</td>\n",
       "      <td>1.348</td>\n",
       "    </tr>\n",
       "    <tr>\n",
       "      <th>1</th>\n",
       "      <td>incongruent</td>\n",
       "      <td>happy</td>\n",
       "      <td>cry</td>\n",
       "      <td>left</td>\n",
       "      <td>incongruent</td>\n",
       "      <td>1</td>\n",
       "      <td>1.125</td>\n",
       "    </tr>\n",
       "    <tr>\n",
       "      <th>2</th>\n",
       "      <td>congruent</td>\n",
       "      <td>happy</td>\n",
       "      <td>laugh</td>\n",
       "      <td>right</td>\n",
       "      <td>congruent</td>\n",
       "      <td>1</td>\n",
       "      <td>1.096</td>\n",
       "    </tr>\n",
       "    <tr>\n",
       "      <th>3</th>\n",
       "      <td>incongruent</td>\n",
       "      <td>sad</td>\n",
       "      <td>laugh</td>\n",
       "      <td>left</td>\n",
       "      <td>incongruent</td>\n",
       "      <td>1</td>\n",
       "      <td>0.887</td>\n",
       "    </tr>\n",
       "    <tr>\n",
       "      <th>0</th>\n",
       "      <td>incongruent</td>\n",
       "      <td>sad</td>\n",
       "      <td>laugh</td>\n",
       "      <td>left</td>\n",
       "      <td>incongruent</td>\n",
       "      <td>1</td>\n",
       "      <td>1.558</td>\n",
       "    </tr>\n",
       "    <tr>\n",
       "      <th>1</th>\n",
       "      <td>congruent</td>\n",
       "      <td>sad</td>\n",
       "      <td>cry</td>\n",
       "      <td>right</td>\n",
       "      <td>congruent</td>\n",
       "      <td>1</td>\n",
       "      <td>1.472</td>\n",
       "    </tr>\n",
       "    <tr>\n",
       "      <th>2</th>\n",
       "      <td>incongruent</td>\n",
       "      <td>happy</td>\n",
       "      <td>cry</td>\n",
       "      <td>right</td>\n",
       "      <td>congruent</td>\n",
       "      <td>0</td>\n",
       "      <td>1.194</td>\n",
       "    </tr>\n",
       "    <tr>\n",
       "      <th>3</th>\n",
       "      <td>congruent</td>\n",
       "      <td>happy</td>\n",
       "      <td>laugh</td>\n",
       "      <td>right</td>\n",
       "      <td>congruent</td>\n",
       "      <td>1</td>\n",
       "      <td>1.282</td>\n",
       "    </tr>\n",
       "    <tr>\n",
       "      <th>0</th>\n",
       "      <td>congruent</td>\n",
       "      <td>sad</td>\n",
       "      <td>cry</td>\n",
       "      <td>right</td>\n",
       "      <td>congruent</td>\n",
       "      <td>1</td>\n",
       "      <td>1.119</td>\n",
       "    </tr>\n",
       "    <tr>\n",
       "      <th>1</th>\n",
       "      <td>incongruent</td>\n",
       "      <td>happy</td>\n",
       "      <td>cry</td>\n",
       "      <td>left</td>\n",
       "      <td>incongruent</td>\n",
       "      <td>1</td>\n",
       "      <td>0.857</td>\n",
       "    </tr>\n",
       "    <tr>\n",
       "      <th>2</th>\n",
       "      <td>congruent</td>\n",
       "      <td>happy</td>\n",
       "      <td>laugh</td>\n",
       "      <td>right</td>\n",
       "      <td>congruent</td>\n",
       "      <td>1</td>\n",
       "      <td>0.571</td>\n",
       "    </tr>\n",
       "    <tr>\n",
       "      <th>3</th>\n",
       "      <td>incongruent</td>\n",
       "      <td>sad</td>\n",
       "      <td>laugh</td>\n",
       "      <td>left</td>\n",
       "      <td>incongruent</td>\n",
       "      <td>1</td>\n",
       "      <td>0.629</td>\n",
       "    </tr>\n",
       "    <tr>\n",
       "      <th>0</th>\n",
       "      <td>congruent</td>\n",
       "      <td>sad</td>\n",
       "      <td>cry</td>\n",
       "      <td>right</td>\n",
       "      <td>congruent</td>\n",
       "      <td>1</td>\n",
       "      <td>1.052</td>\n",
       "    </tr>\n",
       "    <tr>\n",
       "      <th>1</th>\n",
       "      <td>incongruent</td>\n",
       "      <td>happy</td>\n",
       "      <td>cry</td>\n",
       "      <td>right</td>\n",
       "      <td>congruent</td>\n",
       "      <td>0</td>\n",
       "      <td>0.400</td>\n",
       "    </tr>\n",
       "    <tr>\n",
       "      <th>2</th>\n",
       "      <td>congruent</td>\n",
       "      <td>happy</td>\n",
       "      <td>laugh</td>\n",
       "      <td>right</td>\n",
       "      <td>congruent</td>\n",
       "      <td>1</td>\n",
       "      <td>0.545</td>\n",
       "    </tr>\n",
       "    <tr>\n",
       "      <th>3</th>\n",
       "      <td>incongruent</td>\n",
       "      <td>sad</td>\n",
       "      <td>laugh</td>\n",
       "      <td>left</td>\n",
       "      <td>incongruent</td>\n",
       "      <td>1</td>\n",
       "      <td>0.966</td>\n",
       "    </tr>\n",
       "    <tr>\n",
       "      <th>0</th>\n",
       "      <td>incongruent</td>\n",
       "      <td>happy</td>\n",
       "      <td>cry</td>\n",
       "      <td>left</td>\n",
       "      <td>incongruent</td>\n",
       "      <td>1</td>\n",
       "      <td>1.314</td>\n",
       "    </tr>\n",
       "    <tr>\n",
       "      <th>1</th>\n",
       "      <td>congruent</td>\n",
       "      <td>sad</td>\n",
       "      <td>cry</td>\n",
       "      <td>right</td>\n",
       "      <td>congruent</td>\n",
       "      <td>1</td>\n",
       "      <td>1.327</td>\n",
       "    </tr>\n",
       "    <tr>\n",
       "      <th>2</th>\n",
       "      <td>congruent</td>\n",
       "      <td>happy</td>\n",
       "      <td>laugh</td>\n",
       "      <td>right</td>\n",
       "      <td>congruent</td>\n",
       "      <td>1</td>\n",
       "      <td>0.705</td>\n",
       "    </tr>\n",
       "    <tr>\n",
       "      <th>3</th>\n",
       "      <td>incongruent</td>\n",
       "      <td>sad</td>\n",
       "      <td>laugh</td>\n",
       "      <td>left</td>\n",
       "      <td>incongruent</td>\n",
       "      <td>1</td>\n",
       "      <td>0.640</td>\n",
       "    </tr>\n",
       "    <tr>\n",
       "      <th>0</th>\n",
       "      <td>congruent</td>\n",
       "      <td>happy</td>\n",
       "      <td>laugh</td>\n",
       "      <td>right</td>\n",
       "      <td>congruent</td>\n",
       "      <td>1</td>\n",
       "      <td>0.822</td>\n",
       "    </tr>\n",
       "    <tr>\n",
       "      <th>1</th>\n",
       "      <td>congruent</td>\n",
       "      <td>sad</td>\n",
       "      <td>cry</td>\n",
       "      <td>left</td>\n",
       "      <td>incongruent</td>\n",
       "      <td>0</td>\n",
       "      <td>1.471</td>\n",
       "    </tr>\n",
       "    <tr>\n",
       "      <th>2</th>\n",
       "      <td>incongruent</td>\n",
       "      <td>sad</td>\n",
       "      <td>laugh</td>\n",
       "      <td>left</td>\n",
       "      <td>incongruent</td>\n",
       "      <td>1</td>\n",
       "      <td>1.065</td>\n",
       "    </tr>\n",
       "    <tr>\n",
       "      <th>3</th>\n",
       "      <td>incongruent</td>\n",
       "      <td>happy</td>\n",
       "      <td>cry</td>\n",
       "      <td>left</td>\n",
       "      <td>incongruent</td>\n",
       "      <td>1</td>\n",
       "      <td>1.917</td>\n",
       "    </tr>\n",
       "  </tbody>\n",
       "</table>\n",
       "</div>"
      ],
      "text/plain": [
       "          COND V_STIM A_STIM    KEY         RESP  ACC     RT\n",
       "0  incongruent  happy    cry   left  incongruent    1  1.291\n",
       "1  incongruent    sad  laugh  right    congruent    0  1.163\n",
       "2    congruent    sad    cry   left  incongruent    0  1.353\n",
       "3    congruent  happy  laugh  right    congruent    1  1.936\n",
       "0    congruent    sad    cry  right    congruent    1  0.973\n",
       "1    congruent  happy  laugh  right    congruent    1  1.192\n",
       "2  incongruent  happy    cry   left  incongruent    1  0.816\n",
       "3  incongruent    sad  laugh   left  incongruent    1  1.379\n",
       "0  incongruent  happy    cry   left  incongruent    1  1.135\n",
       "1    congruent    sad    cry  right    congruent    1  1.297\n",
       "2    congruent  happy  laugh  right    congruent    1  1.038\n",
       "3  incongruent    sad  laugh   left  incongruent    1  1.077\n",
       "0  incongruent  happy    cry   left  incongruent    1  1.120\n",
       "1    congruent    sad    cry  right    congruent    1  1.412\n",
       "2  incongruent    sad  laugh   left  incongruent    1  0.810\n",
       "3    congruent  happy  laugh  right    congruent    1  1.373\n",
       "0    congruent    sad    cry  right    congruent    1  1.348\n",
       "1  incongruent  happy    cry   left  incongruent    1  1.125\n",
       "2    congruent  happy  laugh  right    congruent    1  1.096\n",
       "3  incongruent    sad  laugh   left  incongruent    1  0.887\n",
       "0  incongruent    sad  laugh   left  incongruent    1  1.558\n",
       "1    congruent    sad    cry  right    congruent    1  1.472\n",
       "2  incongruent  happy    cry  right    congruent    0  1.194\n",
       "3    congruent  happy  laugh  right    congruent    1  1.282\n",
       "0    congruent    sad    cry  right    congruent    1  1.119\n",
       "1  incongruent  happy    cry   left  incongruent    1  0.857\n",
       "2    congruent  happy  laugh  right    congruent    1  0.571\n",
       "3  incongruent    sad  laugh   left  incongruent    1  0.629\n",
       "0    congruent    sad    cry  right    congruent    1  1.052\n",
       "1  incongruent  happy    cry  right    congruent    0  0.400\n",
       "2    congruent  happy  laugh  right    congruent    1  0.545\n",
       "3  incongruent    sad  laugh   left  incongruent    1  0.966\n",
       "0  incongruent  happy    cry   left  incongruent    1  1.314\n",
       "1    congruent    sad    cry  right    congruent    1  1.327\n",
       "2    congruent  happy  laugh  right    congruent    1  0.705\n",
       "3  incongruent    sad  laugh   left  incongruent    1  0.640\n",
       "0    congruent  happy  laugh  right    congruent    1  0.822\n",
       "1    congruent    sad    cry   left  incongruent    0  1.471\n",
       "2  incongruent    sad  laugh   left  incongruent    1  1.065\n",
       "3  incongruent  happy    cry   left  incongruent    1  1.917"
      ]
     },
     "execution_count": 10,
     "metadata": {},
     "output_type": "execute_result"
    }
   ],
   "source": [
    "psychopy_df = pd.DataFrame()\n",
    "for data_file in os.listdir():\n",
    "    psychopy_df = pd.concat(\n",
    "                    [\n",
    "                     psychopy_df, \n",
    "                     pd.read_table(data_file)\n",
    "                    ]\n",
    "                           )\n",
    "psychopy_df"
   ]
  },
  {
   "cell_type": "markdown",
   "metadata": {},
   "source": [
    "Here, it wasn't a problem to print the entire dataset. But oftentimes, the dataset will be MUCH larger, and it'd be a pain to print the whole thing. In those cases and others were you just want to see the first or last few rows (sometimes to check if you got the data you wanted), you can use the `.head` and/or `.tail` methods to get, again, the first or last few rows. It gives you 5 rows by default, but you can change that by passing an integer to the method:"
   ]
  },
  {
   "cell_type": "code",
   "execution_count": 66,
   "metadata": {
    "collapsed": false
   },
   "outputs": [
    {
     "data": {
      "text/html": [
       "<div>\n",
       "<table border=\"1\" class=\"dataframe\">\n",
       "  <thead>\n",
       "    <tr style=\"text-align: right;\">\n",
       "      <th></th>\n",
       "      <th>COND</th>\n",
       "      <th>V_STIM</th>\n",
       "      <th>A_STIM</th>\n",
       "      <th>KEY</th>\n",
       "      <th>RESP</th>\n",
       "      <th>ACC</th>\n",
       "      <th>RT</th>\n",
       "    </tr>\n",
       "  </thead>\n",
       "  <tbody>\n",
       "    <tr>\n",
       "      <th>0</th>\n",
       "      <td>incongruent</td>\n",
       "      <td>happy</td>\n",
       "      <td>cry</td>\n",
       "      <td>left</td>\n",
       "      <td>incongruent</td>\n",
       "      <td>1</td>\n",
       "      <td>1.291</td>\n",
       "    </tr>\n",
       "    <tr>\n",
       "      <th>1</th>\n",
       "      <td>incongruent</td>\n",
       "      <td>sad</td>\n",
       "      <td>laugh</td>\n",
       "      <td>right</td>\n",
       "      <td>congruent</td>\n",
       "      <td>0</td>\n",
       "      <td>1.163</td>\n",
       "    </tr>\n",
       "    <tr>\n",
       "      <th>2</th>\n",
       "      <td>congruent</td>\n",
       "      <td>sad</td>\n",
       "      <td>cry</td>\n",
       "      <td>left</td>\n",
       "      <td>incongruent</td>\n",
       "      <td>0</td>\n",
       "      <td>1.353</td>\n",
       "    </tr>\n",
       "  </tbody>\n",
       "</table>\n",
       "</div>"
      ],
      "text/plain": [
       "          COND V_STIM A_STIM    KEY         RESP  ACC     RT\n",
       "0  incongruent  happy    cry   left  incongruent    1  1.291\n",
       "1  incongruent    sad  laugh  right    congruent    0  1.163\n",
       "2    congruent    sad    cry   left  incongruent    0  1.353"
      ]
     },
     "execution_count": 66,
     "metadata": {},
     "output_type": "execute_result"
    }
   ],
   "source": [
    "psychopy_df.head(3)"
   ]
  },
  {
   "cell_type": "markdown",
   "metadata": {},
   "source": [
    "We can get a quick 'summary' of all the columns with the `.describe` method. Because the datatypes of the columns are mixed -- some have numerical data and some have categorical data -- we have to explicitly tell the `.describe` method to include all the columns, otherwise it'd just summarize the numerical columns."
   ]
  },
  {
   "cell_type": "code",
   "execution_count": 12,
   "metadata": {
    "collapsed": false
   },
   "outputs": [
    {
     "data": {
      "text/html": [
       "<div>\n",
       "<table border=\"1\" class=\"dataframe\">\n",
       "  <thead>\n",
       "    <tr style=\"text-align: right;\">\n",
       "      <th></th>\n",
       "      <th>COND</th>\n",
       "      <th>V_STIM</th>\n",
       "      <th>A_STIM</th>\n",
       "      <th>KEY</th>\n",
       "      <th>RESP</th>\n",
       "      <th>ACC</th>\n",
       "      <th>RT</th>\n",
       "    </tr>\n",
       "  </thead>\n",
       "  <tbody>\n",
       "    <tr>\n",
       "      <th>count</th>\n",
       "      <td>40</td>\n",
       "      <td>40</td>\n",
       "      <td>40</td>\n",
       "      <td>40</td>\n",
       "      <td>40</td>\n",
       "      <td>40.000000</td>\n",
       "      <td>40.000000</td>\n",
       "    </tr>\n",
       "    <tr>\n",
       "      <th>unique</th>\n",
       "      <td>2</td>\n",
       "      <td>2</td>\n",
       "      <td>2</td>\n",
       "      <td>2</td>\n",
       "      <td>2</td>\n",
       "      <td>NaN</td>\n",
       "      <td>NaN</td>\n",
       "    </tr>\n",
       "    <tr>\n",
       "      <th>top</th>\n",
       "      <td>incongruent</td>\n",
       "      <td>sad</td>\n",
       "      <td>cry</td>\n",
       "      <td>right</td>\n",
       "      <td>congruent</td>\n",
       "      <td>NaN</td>\n",
       "      <td>NaN</td>\n",
       "    </tr>\n",
       "    <tr>\n",
       "      <th>freq</th>\n",
       "      <td>20</td>\n",
       "      <td>20</td>\n",
       "      <td>20</td>\n",
       "      <td>21</td>\n",
       "      <td>21</td>\n",
       "      <td>NaN</td>\n",
       "      <td>NaN</td>\n",
       "    </tr>\n",
       "    <tr>\n",
       "      <th>mean</th>\n",
       "      <td>NaN</td>\n",
       "      <td>NaN</td>\n",
       "      <td>NaN</td>\n",
       "      <td>NaN</td>\n",
       "      <td>NaN</td>\n",
       "      <td>0.875000</td>\n",
       "      <td>1.118175</td>\n",
       "    </tr>\n",
       "    <tr>\n",
       "      <th>std</th>\n",
       "      <td>NaN</td>\n",
       "      <td>NaN</td>\n",
       "      <td>NaN</td>\n",
       "      <td>NaN</td>\n",
       "      <td>NaN</td>\n",
       "      <td>0.334932</td>\n",
       "      <td>0.339668</td>\n",
       "    </tr>\n",
       "    <tr>\n",
       "      <th>min</th>\n",
       "      <td>NaN</td>\n",
       "      <td>NaN</td>\n",
       "      <td>NaN</td>\n",
       "      <td>NaN</td>\n",
       "      <td>NaN</td>\n",
       "      <td>0.000000</td>\n",
       "      <td>0.400000</td>\n",
       "    </tr>\n",
       "    <tr>\n",
       "      <th>25%</th>\n",
       "      <td>NaN</td>\n",
       "      <td>NaN</td>\n",
       "      <td>NaN</td>\n",
       "      <td>NaN</td>\n",
       "      <td>NaN</td>\n",
       "      <td>1.000000</td>\n",
       "      <td>0.879500</td>\n",
       "    </tr>\n",
       "    <tr>\n",
       "      <th>50%</th>\n",
       "      <td>NaN</td>\n",
       "      <td>NaN</td>\n",
       "      <td>NaN</td>\n",
       "      <td>NaN</td>\n",
       "      <td>NaN</td>\n",
       "      <td>1.000000</td>\n",
       "      <td>1.122500</td>\n",
       "    </tr>\n",
       "    <tr>\n",
       "      <th>75%</th>\n",
       "      <td>NaN</td>\n",
       "      <td>NaN</td>\n",
       "      <td>NaN</td>\n",
       "      <td>NaN</td>\n",
       "      <td>NaN</td>\n",
       "      <td>1.000000</td>\n",
       "      <td>1.332250</td>\n",
       "    </tr>\n",
       "    <tr>\n",
       "      <th>max</th>\n",
       "      <td>NaN</td>\n",
       "      <td>NaN</td>\n",
       "      <td>NaN</td>\n",
       "      <td>NaN</td>\n",
       "      <td>NaN</td>\n",
       "      <td>1.000000</td>\n",
       "      <td>1.936000</td>\n",
       "    </tr>\n",
       "  </tbody>\n",
       "</table>\n",
       "</div>"
      ],
      "text/plain": [
       "               COND V_STIM A_STIM    KEY       RESP        ACC         RT\n",
       "count            40     40     40     40         40  40.000000  40.000000\n",
       "unique            2      2      2      2          2        NaN        NaN\n",
       "top     incongruent    sad    cry  right  congruent        NaN        NaN\n",
       "freq             20     20     20     21         21        NaN        NaN\n",
       "mean            NaN    NaN    NaN    NaN        NaN   0.875000   1.118175\n",
       "std             NaN    NaN    NaN    NaN        NaN   0.334932   0.339668\n",
       "min             NaN    NaN    NaN    NaN        NaN   0.000000   0.400000\n",
       "25%             NaN    NaN    NaN    NaN        NaN   1.000000   0.879500\n",
       "50%             NaN    NaN    NaN    NaN        NaN   1.000000   1.122500\n",
       "75%             NaN    NaN    NaN    NaN        NaN   1.000000   1.332250\n",
       "max             NaN    NaN    NaN    NaN        NaN   1.000000   1.936000"
      ]
     },
     "execution_count": 12,
     "metadata": {},
     "output_type": "execute_result"
    }
   ],
   "source": [
    "psychopy_df.describe(include='all')"
   ]
  },
  {
   "cell_type": "markdown",
   "metadata": {},
   "source": [
    "So, this confirms that each categorical column is roughly evenly split between its possible values (e.g., congruent and incongruent). It also tells us that the accuracy rate ('mean') is ~88%, and the mean reaction time is 1.12s with a standard deviation of .34s.\n",
    "\n",
    "What's the distribution of reaction times? Those are usually not normally distributed, so how about we check that out with a histogram?\n",
    "\n",
    "First we access just the column with RT. That gives us a `Series` object, which we can then call the `.histogram` method on."
   ]
  },
  {
   "cell_type": "code",
   "execution_count": 30,
   "metadata": {
    "collapsed": false
   },
   "outputs": [
    {
     "data": {
      "image/png": "[encoded data removed]",
      "text/plain": [
       "<matplotlib.figure.Figure at 0x1179792b0>"
      ]
     },
     "metadata": {},
     "output_type": "display_data"
    }
   ],
   "source": [
    "psychopy_df['RT'].hist();"
   ]
  },
  {
   "cell_type": "markdown",
   "metadata": {},
   "source": [
    "Hmmm. Maybe we should impose a normal curve on that. `Seaborn` can help with that. We'll use the the `distplot` function it provides. We'll supply four arguments:\n",
    "\n",
    "    a: The sequence of data for which we are computing the histogram. This will be psychopy_df['RT']\n",
    "    bins: The number of bins into which the numerical values of 'a' will be placed. We'll want to match the number of bins that the pd.Series.hist() used, which happened to be 10 above.\n",
    "    kde: We don't want a kernel density estimate of the distribution -- we want a simple normal curve overlay, so we'll set this to False\n",
    "    fit: This is where we tell distplot what kind of probability density function we'll try to fit to our data. We want a normal distribution, so we'll give it scipy.stats.norm"
   ]
  },
  {
   "cell_type": "code",
   "execution_count": 39,
   "metadata": {
    "collapsed": false
   },
   "outputs": [
    {
     "data": {
      "image/png": "[encoded data removed]",
      "text/plain": [
       "<matplotlib.figure.Figure at 0x117a2de10>"
      ]
     },
     "metadata": {},
     "output_type": "display_data"
    }
   ],
   "source": [
    "import scipy.stats\n",
    "\n",
    "sns.distplot(a=psychopy_df['RT'], bins=10, kde=False, fit=scipy.stats.norm);"
   ]
  },
  {
   "cell_type": "markdown",
   "metadata": {},
   "source": [
    "Voila.\n",
    "\n",
    "So that's not the greatest fit to a normal curve, but not the worst either. It actually seems like maybe it has some *negative* skew, which is the opposite of what we normally see with reaction times (where we have some large positive values).\n",
    "\n",
    "We could try transforming RT's...\n",
    "\n",
    "But how about we break things down by condition? We can easily visualize this with a boxplot."
   ]
  },
  {
   "cell_type": "code",
   "execution_count": 16,
   "metadata": {
    "collapsed": false
   },
   "outputs": [
    {
     "data": {
      "image/png": "[encoded data removed]",
      "text/plain": [
       "<matplotlib.figure.Figure at 0x117111630>"
      ]
     },
     "metadata": {},
     "output_type": "display_data"
    }
   ],
   "source": [
    "sns.boxplot(x='COND',y='RT',data=psychopy_df);"
   ]
  },
  {
   "cell_type": "markdown",
   "metadata": {},
   "source": [
    "Hmmm. Maaaaaaybe congruent was a little slower than incongruent. How about we try a t-test to see if there really is a difference in RT between incongruent and congruent trials? "
   ]
  },
  {
   "cell_type": "code",
   "execution_count": 64,
   "metadata": {
    "collapsed": false
   },
   "outputs": [
    {
     "data": {
      "text/html": [
       "<div>\n",
       "<table border=\"1\" class=\"dataframe\">\n",
       "  <thead>\n",
       "    <tr style=\"text-align: right;\">\n",
       "      <th></th>\n",
       "      <th>COND</th>\n",
       "      <th>V_STIM</th>\n",
       "      <th>A_STIM</th>\n",
       "      <th>KEY</th>\n",
       "      <th>RESP</th>\n",
       "      <th>ACC</th>\n",
       "      <th>RT</th>\n",
       "    </tr>\n",
       "  </thead>\n",
       "  <tbody>\n",
       "    <tr>\n",
       "      <th>2</th>\n",
       "      <td>congruent</td>\n",
       "      <td>sad</td>\n",
       "      <td>cry</td>\n",
       "      <td>left</td>\n",
       "      <td>incongruent</td>\n",
       "      <td>0</td>\n",
       "      <td>1.353</td>\n",
       "    </tr>\n",
       "    <tr>\n",
       "      <th>3</th>\n",
       "      <td>congruent</td>\n",
       "      <td>happy</td>\n",
       "      <td>laugh</td>\n",
       "      <td>right</td>\n",
       "      <td>congruent</td>\n",
       "      <td>1</td>\n",
       "      <td>1.936</td>\n",
       "    </tr>\n",
       "    <tr>\n",
       "      <th>0</th>\n",
       "      <td>congruent</td>\n",
       "      <td>sad</td>\n",
       "      <td>cry</td>\n",
       "      <td>right</td>\n",
       "      <td>congruent</td>\n",
       "      <td>1</td>\n",
       "      <td>0.973</td>\n",
       "    </tr>\n",
       "    <tr>\n",
       "      <th>1</th>\n",
       "      <td>congruent</td>\n",
       "      <td>happy</td>\n",
       "      <td>laugh</td>\n",
       "      <td>right</td>\n",
       "      <td>congruent</td>\n",
       "      <td>1</td>\n",
       "      <td>1.192</td>\n",
       "    </tr>\n",
       "    <tr>\n",
       "      <th>1</th>\n",
       "      <td>congruent</td>\n",
       "      <td>sad</td>\n",
       "      <td>cry</td>\n",
       "      <td>right</td>\n",
       "      <td>congruent</td>\n",
       "      <td>1</td>\n",
       "      <td>1.297</td>\n",
       "    </tr>\n",
       "  </tbody>\n",
       "</table>\n",
       "</div>"
      ],
      "text/plain": [
       "        COND V_STIM A_STIM    KEY         RESP  ACC     RT\n",
       "2  congruent    sad    cry   left  incongruent    0  1.353\n",
       "3  congruent  happy  laugh  right    congruent    1  1.936\n",
       "0  congruent    sad    cry  right    congruent    1  0.973\n",
       "1  congruent  happy  laugh  right    congruent    1  1.192\n",
       "1  congruent    sad    cry  right    congruent    1  1.297"
      ]
     },
     "execution_count": 64,
     "metadata": {},
     "output_type": "execute_result"
    }
   ],
   "source": [
    "congruent = psychopy_df.query('COND == \"congruent\"')\n",
    "congruent.head()"
   ]
  },
  {
   "cell_type": "code",
   "execution_count": 67,
   "metadata": {
    "collapsed": true
   },
   "outputs": [],
   "source": [
    "congruent = congruent['RT']\n",
    "\n",
    "incongruent = psychopy_df.query('COND == \"incongruent\"')['RT']"
   ]
  },
  {
   "cell_type": "code",
   "execution_count": 68,
   "metadata": {
    "collapsed": false
   },
   "outputs": [
    {
     "data": {
      "text/plain": [
       "Ttest_indResult(statistic=0.94886134028295943, pvalue=0.34868693888481705)"
      ]
     },
     "execution_count": 68,
     "metadata": {},
     "output_type": "execute_result"
    }
   ],
   "source": [
    "scipy.stats.ttest_ind(congruent,incongruent)"
   ]
  },
  {
   "cell_type": "markdown",
   "metadata": {},
   "source": [
    "So no, congruent trials were responded to no faster or slower than incongruent trials.\n",
    "\n",
    "What about accuracy? Since each trial can be correct or incorrect, there's no meaningful sense of variability in a condition, and it suffices to just compare accuracy rate across conditions. So, instead of a barplot or boxplot, we can do a `groupby` operation in pandas.\n",
    "\n",
    "A `groupby` does what it sounds like -- you choose a variable (or variables) by which to 'group' your data, and then you can aggregate the data within those groups in some way. A common pattern is to groupby a particular condition, and then compute the means within those conditions, like below:"
   ]
  },
  {
   "cell_type": "code",
   "execution_count": 21,
   "metadata": {
    "collapsed": false,
    "scrolled": false
   },
   "outputs": [
    {
     "data": {
      "text/html": [
       "<div>\n",
       "<table border=\"1\" class=\"dataframe\">\n",
       "  <thead>\n",
       "    <tr style=\"text-align: right;\">\n",
       "      <th></th>\n",
       "      <th>ACC</th>\n",
       "      <th>RT</th>\n",
       "    </tr>\n",
       "    <tr>\n",
       "      <th>COND</th>\n",
       "      <th></th>\n",
       "      <th></th>\n",
       "    </tr>\n",
       "  </thead>\n",
       "  <tbody>\n",
       "    <tr>\n",
       "      <th>congruent</th>\n",
       "      <td>0.90</td>\n",
       "      <td>1.16920</td>\n",
       "    </tr>\n",
       "    <tr>\n",
       "      <th>incongruent</th>\n",
       "      <td>0.85</td>\n",
       "      <td>1.06715</td>\n",
       "    </tr>\n",
       "  </tbody>\n",
       "</table>\n",
       "</div>"
      ],
      "text/plain": [
       "              ACC       RT\n",
       "COND                      \n",
       "congruent    0.90  1.16920\n",
       "incongruent  0.85  1.06715"
      ]
     },
     "execution_count": 21,
     "metadata": {},
     "output_type": "execute_result"
    }
   ],
   "source": [
    "psychopy_df.groupby('COND').mean()"
   ]
  },
  {
   "cell_type": "markdown",
   "metadata": {},
   "source": [
    "I said we can groupby variable*s*, so let's try that, too. Let's group by condition, then visual stimulus type. This will let us see the accuracy and RT for, e.g., congruent trials with a happy visual stimulus, congruent trials with a sad visual stimulus, etc."
   ]
  },
  {
   "cell_type": "code",
   "execution_count": 26,
   "metadata": {
    "collapsed": false
   },
   "outputs": [
    {
     "data": {
      "text/html": [
       "<div>\n",
       "<table border=\"1\" class=\"dataframe\">\n",
       "  <thead>\n",
       "    <tr style=\"text-align: right;\">\n",
       "      <th></th>\n",
       "      <th></th>\n",
       "      <th>ACC</th>\n",
       "      <th>RT</th>\n",
       "    </tr>\n",
       "    <tr>\n",
       "      <th>COND</th>\n",
       "      <th>V_STIM</th>\n",
       "      <th></th>\n",
       "      <th></th>\n",
       "    </tr>\n",
       "  </thead>\n",
       "  <tbody>\n",
       "    <tr>\n",
       "      <th rowspan=\"2\" valign=\"top\">congruent</th>\n",
       "      <th>happy</th>\n",
       "      <td>1.0</td>\n",
       "      <td>1.0560</td>\n",
       "    </tr>\n",
       "    <tr>\n",
       "      <th>sad</th>\n",
       "      <td>0.8</td>\n",
       "      <td>1.2824</td>\n",
       "    </tr>\n",
       "    <tr>\n",
       "      <th rowspan=\"2\" valign=\"top\">incongruent</th>\n",
       "      <th>happy</th>\n",
       "      <td>0.8</td>\n",
       "      <td>1.1169</td>\n",
       "    </tr>\n",
       "    <tr>\n",
       "      <th>sad</th>\n",
       "      <td>0.9</td>\n",
       "      <td>1.0174</td>\n",
       "    </tr>\n",
       "  </tbody>\n",
       "</table>\n",
       "</div>"
      ],
      "text/plain": [
       "                    ACC      RT\n",
       "COND        V_STIM             \n",
       "congruent   happy   1.0  1.0560\n",
       "            sad     0.8  1.2824\n",
       "incongruent happy   0.8  1.1169\n",
       "            sad     0.9  1.0174"
      ]
     },
     "execution_count": 26,
     "metadata": {},
     "output_type": "execute_result"
    }
   ],
   "source": [
    "psychopy_df.groupby(['COND','V_STIM']).mean()"
   ]
  },
  {
   "cell_type": "markdown",
   "metadata": {},
   "source": [
    "Once thing to bear in mind here is that as we do finer and finer groupby's, the n's in each cell get smaller and smaller. So the estimates get less reliable. Thus we should keep in mind how many observations are really in each cell. We can do that with a groupby operation and aggregating with the `.count` method."
   ]
  },
  {
   "cell_type": "code",
   "execution_count": 27,
   "metadata": {
    "collapsed": false
   },
   "outputs": [
    {
     "data": {
      "text/html": [
       "<div>\n",
       "<table border=\"1\" class=\"dataframe\">\n",
       "  <thead>\n",
       "    <tr style=\"text-align: right;\">\n",
       "      <th></th>\n",
       "      <th></th>\n",
       "      <th>A_STIM</th>\n",
       "      <th>KEY</th>\n",
       "      <th>RESP</th>\n",
       "      <th>ACC</th>\n",
       "      <th>RT</th>\n",
       "    </tr>\n",
       "    <tr>\n",
       "      <th>COND</th>\n",
       "      <th>V_STIM</th>\n",
       "      <th></th>\n",
       "      <th></th>\n",
       "      <th></th>\n",
       "      <th></th>\n",
       "      <th></th>\n",
       "    </tr>\n",
       "  </thead>\n",
       "  <tbody>\n",
       "    <tr>\n",
       "      <th rowspan=\"2\" valign=\"top\">congruent</th>\n",
       "      <th>happy</th>\n",
       "      <td>10</td>\n",
       "      <td>10</td>\n",
       "      <td>10</td>\n",
       "      <td>10</td>\n",
       "      <td>10</td>\n",
       "    </tr>\n",
       "    <tr>\n",
       "      <th>sad</th>\n",
       "      <td>10</td>\n",
       "      <td>10</td>\n",
       "      <td>10</td>\n",
       "      <td>10</td>\n",
       "      <td>10</td>\n",
       "    </tr>\n",
       "    <tr>\n",
       "      <th rowspan=\"2\" valign=\"top\">incongruent</th>\n",
       "      <th>happy</th>\n",
       "      <td>10</td>\n",
       "      <td>10</td>\n",
       "      <td>10</td>\n",
       "      <td>10</td>\n",
       "      <td>10</td>\n",
       "    </tr>\n",
       "    <tr>\n",
       "      <th>sad</th>\n",
       "      <td>10</td>\n",
       "      <td>10</td>\n",
       "      <td>10</td>\n",
       "      <td>10</td>\n",
       "      <td>10</td>\n",
       "    </tr>\n",
       "  </tbody>\n",
       "</table>\n",
       "</div>"
      ],
      "text/plain": [
       "                    A_STIM  KEY  RESP  ACC  RT\n",
       "COND        V_STIM                            \n",
       "congruent   happy       10   10    10   10  10\n",
       "            sad         10   10    10   10  10\n",
       "incongruent happy       10   10    10   10  10\n",
       "            sad         10   10    10   10  10"
      ]
     },
     "execution_count": 27,
     "metadata": {},
     "output_type": "execute_result"
    }
   ],
   "source": [
    "psychopy_df.groupby(['COND','V_STIM']).count()"
   ]
  },
  {
   "cell_type": "markdown",
   "metadata": {},
   "source": [
    "10 observations per cell is already sort of iffy, so let's not subdivide beyond 2 levels. BUT, we could try other groupings.\n",
    "\n",
    "Are people any faster or slower depending on accuracy?"
   ]
  },
  {
   "cell_type": "code",
   "execution_count": 70,
   "metadata": {
    "collapsed": false,
    "scrolled": true
   },
   "outputs": [
    {
     "data": {
      "image/png": "[encoded data removed]",
      "text/plain": [
       "<matplotlib.figure.Figure at 0x117a22908>"
      ]
     },
     "metadata": {},
     "output_type": "display_data"
    }
   ],
   "source": [
    "sns.swarmplot(x='ACC',y='RT',data=psychopy_df);"
   ]
  },
  {
   "cell_type": "markdown",
   "metadata": {},
   "source": [
    "Sensibly, reaction time is quicker when the judgment is correct."
   ]
  },
  {
   "cell_type": "code",
   "execution_count": 54,
   "metadata": {
    "collapsed": false
   },
   "outputs": [
    {
     "data": {
      "image/png": "[encoded data removed]",
      "text/plain": [
       "<matplotlib.figure.Figure at 0x117490ba8>"
      ]
     },
     "metadata": {},
     "output_type": "display_data"
    }
   ],
   "source": [
    "sns.swarmplot(x='COND',y='RT',hue='ACC',data=psychopy_df);"
   ]
  },
  {
   "cell_type": "markdown",
   "metadata": {},
   "source": [
    "Oh, right, there aren't that many acc=0 trials (i.e., errors)!"
   ]
  },
  {
   "cell_type": "markdown",
   "metadata": {},
   "source": [
    "## Russell's dissertation data**\n",
    "\n",
    "** Initially collected with Matt Hall for a different project."
   ]
  },
  {
   "cell_type": "markdown",
   "metadata": {},
   "source": [
    "These data are of a volume and complexity that really motivate a programmatic analysis. I'm not really sure how one would do all the things I've needed to do with these data in Excel, SPSS, and other tools that are more GUI-based (i.e., point-and-click)."
   ]
  },
  {
   "cell_type": "markdown",
   "metadata": {
    "collapsed": true
   },
   "source": [
    "A bunch of psycholinguistic datasets hosted by ASHA:\n",
    "\n",
    "[Research Databases and Other Online Tools](http://www.asha.org/research/researcher-tools/databases/)\n"
   ]
  },
  {
   "cell_type": "code",
   "execution_count": null,
   "metadata": {
    "collapsed": true
   },
   "outputs": [],
   "source": []
  }
 ],
 "metadata": {
  "anaconda-cloud": {},
  "kernelspec": {
   "display_name": "Python [Root]",
   "language": "python",
   "name": "Python [Root]"
  },
  "language_info": {
   "codemirror_mode": {
    "name": "ipython",
    "version": 3
   },
   "file_extension": ".py",
   "mimetype": "text/x-python",
   "name": "python",
   "nbconvert_exporter": "python",
   "pygments_lexer": "ipython3",
   "version": "3.5.2"
  }
 },
 "nbformat": 4,
 "nbformat_minor": 0
}
